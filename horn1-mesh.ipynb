{
 "cells": [
  {
   "cell_type": "code",
   "execution_count": null,
   "id": "3244d07e",
   "metadata": {},
   "outputs": [],
   "source": [
    "import gmsh"
   ]
  },
  {
   "cell_type": "code",
   "execution_count": null,
   "id": "1167e17c",
   "metadata": {},
   "outputs": [],
   "source": [
    "import sys\n",
    "%matplotlib inline\n",
    "import matplotlib.pyplot as plt\n",
    "from sympy import solve, symbols\n",
    "from math import pi, sin, cos\n",
    "import numpy as np"
   ]
  },
  {
   "cell_type": "code",
   "execution_count": null,
   "id": "757ba7c4",
   "metadata": {},
   "outputs": [],
   "source": [
    "gmsh.initialize()\n",
    "gmsh.model.add(\"horn-curve\")"
   ]
  },
  {
   "cell_type": "code",
   "execution_count": null,
   "id": "909cd8ae",
   "metadata": {},
   "outputs": [],
   "source": [
    "r = 1\n",
    "a = 1/15\n",
    "b = 3/10\n",
    "R = 2\n",
    "t = a/2\n",
    "\n",
    "freq=1000\n",
    "c_air=340\n",
    "l=c_air/freq\n",
    "lc=l/12"
   ]
  },
  {
   "cell_type": "code",
   "execution_count": null,
   "id": "b6f6b511",
   "metadata": {},
   "outputs": [],
   "source": [
    "def vector_angle(v1, v2):\n",
    "    uv1 = np.divide(v1, np.linalg.norm(v1))\n",
    "    uv2 = np.divide(v2, np.linalg.norm(v2))\n",
    "    return np.arccos(np.dot(uv1, uv2))\n",
    "\n",
    "def compute_points(a, b, r, R):\n",
    "    x = symbols('x')\n",
    "    y = symbols('y')\n",
    "    eqs = [\n",
    "        x**2+(y-b)**2-R**2,\n",
    "        (x+r)**2+(y-a)**2-R**2\n",
    "    ]\n",
    "    s = solve(eqs, [x,y])\n",
    "    # print(s)\n",
    "    x0, y0 = float(s[0][0]), float(s[0][1])\n",
    "\n",
    "    theta = vector_angle([-r-x0, a-y0], [-x0, b-y0])\n",
    "    y = 3*pi/2-vector_angle([0, -1], [-r-x0, a-y0])\n",
    "\n",
    "    #print(\n",
    "    #    x0+(R-t)*math.cos(y),       y0+(R-t)*math.sin(y),\n",
    "    #    x0+(R  )*math.cos(y),       y0+(R  )*math.sin(y),\n",
    "    #    x0+(R-t)*math.cos(y+theta), y0+(R-t)*math.sin(y+theta),\n",
    "    #    x0+(R  )*math.cos(y+theta), y0+(R  )*math.sin(y+theta)\n",
    "    #)\n",
    "    \n",
    "    points = [\n",
    "        (0, 0),                                           # 1 center\n",
    "        (x0, y0),                                         # 2 horn center\n",
    "        (-r,0),                                           # 3 left corner\n",
    "        (x0+(R  )*cos(y),       y0+(R  )*sin(y)),         # 4 annulus\n",
    "        (x0+(R  )*cos(y+theta), y0+(R  )*sin(y+theta)),   # 5\n",
    "        (x0+(R-t)*cos(y+theta), y0+(R-t)*sin(y+theta)),   # 6\n",
    "        (x0+(R-t)*cos(y),       y0+(R-t)*sin(y)),         # 7\n",
    "        (r,0),                                            # 8 right corner\n",
    "    ]\n",
    "    # print(points)\n",
    "    return points"
   ]
  },
  {
   "cell_type": "code",
   "execution_count": null,
   "id": "5489eeb2",
   "metadata": {},
   "outputs": [],
   "source": [
    "points = compute_points(a,b,r,R)\n",
    "g_points = []\n",
    "for p in points:\n",
    "    g_points.append(gmsh.model.geo.addPoint(p[0], p[1], 0, lc))"
   ]
  },
  {
   "cell_type": "code",
   "execution_count": null,
   "id": "9f9c0039",
   "metadata": {},
   "outputs": [],
   "source": [
    "p_points_x = []\n",
    "p_points_y = []\n",
    "\n",
    "def add_points(pi):\n",
    "    p_points_x.append(points[pi-1][0])\n",
    "    p_points_y.append(points[pi-1][1])\n",
    "    \n",
    "add_points(3)\n",
    "add_points(4)\n",
    "add_points(5)\n",
    "add_points(6)\n",
    "add_points(7)\n",
    "add_points(8)\n",
    "add_points(3)\n",
    "\n",
    "plt.plot(p_points_x, p_points_y)"
   ]
  },
  {
   "cell_type": "code",
   "execution_count": null,
   "id": "80bf31de",
   "metadata": {},
   "outputs": [],
   "source": [
    "s1 = gmsh.model.geo.addLine(3, 4)\n",
    "s2 = gmsh.model.geo.addCircleArc(4, 2, 5)\n",
    "s3 = gmsh.model.geo.addLine(5, 6)\n",
    "s4 = gmsh.model.geo.addCircleArc(6, 2, 7)\n",
    "s5 = gmsh.model.geo.addCircleArc(7, 1, 8)\n",
    "s6 = gmsh.model.geo.addLine(8, 3)"
   ]
  },
  {
   "cell_type": "code",
   "execution_count": null,
   "id": "bf566741",
   "metadata": {},
   "outputs": [],
   "source": []
  },
  {
   "cell_type": "code",
   "execution_count": null,
   "id": "c284439b",
   "metadata": {},
   "outputs": [],
   "source": [
    "g_border    = gmsh.model.geo.addCurveLoop([s1,s2,s3, s4, s5, s6])\n",
    "g_dirichlet = gmsh.model.geo.addCurveLoop([s1])\n",
    "g_neumann   = gmsh.model.geo.addCurveLoop([s5])\n",
    "g_symm      = gmsh.model.geo.addCurveLoop([s6])\n",
    "g_hard      = gmsh.model.geo.addCurveLoop([s2, s3, s4])\n",
    "\n",
    "g_surface   = gmsh.model.geo.addPlaneSurface([g_border])\n",
    "\n",
    "gmsh.model.geo.synchronize()\n",
    "\n",
    "pm_surface = 1\n",
    "gmsh.model.addPhysicalGroup(dim=2, tags=[g_surface], tag=pm_surface)\n",
    "gmsh.model.setPhysicalName(dim=2, tag=pm_surface, name=\"Horn 2D\")\n",
    "\n",
    "pm_dirichlet = 2\n",
    "gmsh.model.addPhysicalGroup(dim=1, tags=[g_dirichlet], tag=pm_dirichlet)\n",
    "gmsh.model.setPhysicalName(dim=1, tag=pm_dirichlet, name=\"Boundary Dirichlet\")\n",
    "\n",
    "pm_neumann = 3\n",
    "gmsh.model.addPhysicalGroup(dim=1, tags=[g_neumann], tag=pm_neumann)\n",
    "gmsh.model.setPhysicalName(dim=1, tag=pm_neumann, name=\"Boundary Neumann\")\n",
    "\n",
    "\n",
    "gmsh.model.mesh.generate(3)\n",
    "gmsh.write(\"horn.msh\")\n",
    "\n",
    "\n",
    "\n",
    "\n",
    "\n",
    "\n",
    "\n"
   ]
  },
  {
   "cell_type": "code",
   "execution_count": null,
   "id": "4c2888ac",
   "metadata": {},
   "outputs": [],
   "source": [
    "from firedrake import *\n",
    "plt.rcParams['figure.dpi'] = 100 # 200 e.g. is really fine, but slower\n",
    "\n",
    "mesh = Mesh('horn.msh')\n"
   ]
  },
  {
   "cell_type": "code",
   "execution_count": null,
   "id": "1cd4f159",
   "metadata": {},
   "outputs": [],
   "source": [
    "triplot(mesh)"
   ]
  },
  {
   "cell_type": "code",
   "execution_count": null,
   "id": "c57e0db5",
   "metadata": {},
   "outputs": [],
   "source": []
  }
 ],
 "metadata": {
  "kernelspec": {
   "display_name": "Python 3 (ipykernel)",
   "language": "python",
   "name": "python3"
  },
  "language_info": {
   "codemirror_mode": {
    "name": "ipython",
    "version": 3
   },
   "file_extension": ".py",
   "mimetype": "text/x-python",
   "name": "python",
   "nbconvert_exporter": "python",
   "pygments_lexer": "ipython3",
   "version": "3.8.5"
  }
 },
 "nbformat": 4,
 "nbformat_minor": 5
}
