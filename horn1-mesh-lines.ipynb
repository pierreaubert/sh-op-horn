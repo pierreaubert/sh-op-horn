{
 "cells": [
  {
   "cell_type": "code",
   "execution_count": null,
   "id": "3244d07e",
   "metadata": {},
   "outputs": [],
   "source": [
    "import gmsh"
   ]
  },
  {
   "cell_type": "code",
   "execution_count": null,
   "id": "1167e17c",
   "metadata": {},
   "outputs": [],
   "source": [
    "import sys\n",
    "%matplotlib inline\n",
    "import matplotlib.pyplot as plt\n",
    "from sympy import solve, symbols, nonlinsolve\n",
    "from math import pi, sin, cos, asin, atan\n",
    "import numpy as np"
   ]
  },
  {
   "cell_type": "code",
   "execution_count": null,
   "id": "757ba7c4",
   "metadata": {},
   "outputs": [],
   "source": [
    "gmsh.initialize()\n",
    "gmsh.model.add(\"horn-lines\")"
   ]
  },
  {
   "cell_type": "code",
   "execution_count": null,
   "id": "909cd8ae",
   "metadata": {},
   "outputs": [],
   "source": [
    "r = 1\n",
    "a = 1/15\n",
    "b = 3/10\n",
    "t = a/2\n",
    "\n",
    "freq=1000\n",
    "c_air=340\n",
    "l=c_air/freq\n",
    "lc=l/12"
   ]
  },
  {
   "cell_type": "code",
   "execution_count": null,
   "id": "b6f6b511",
   "metadata": {},
   "outputs": [],
   "source": [
    "omega = atan(a/r)\n",
    "omega2 = atan((a+t)/r)\n",
    "theta = atan((b-a)/(r/2))\n",
    "points = [\n",
    "        (-r,0),                                           # 1 left corner\n",
    "        (-r+a*sin(omega), a*cos(omega)),                  # 2 horn left low\n",
    "        (-r/2, a),                                        # 3 horn mid low\n",
    "        (0, b),                                           # 4 horn right low\n",
    "        (0   +t*cos(pi/2+theta), b+t*sin(pi/2+theta)),    # 5 horn right high\n",
    "        (-r/2+t*cos(pi/2+theta), a+t*sin(pi/2+theta)),    # 6 horn mid high\n",
    "        (-r+(a+t)*sin(omega2), 0+(a+t)*cos(omega2)),      # 7 horn left high\n",
    "        (r,0),                                            # 8 right corner\n",
    "        (0,0),                                            # 9 circle center\n",
    "]"
   ]
  },
  {
   "cell_type": "code",
   "execution_count": null,
   "id": "9f9c0039",
   "metadata": {},
   "outputs": [],
   "source": [
    "p_points_x = []\n",
    "p_points_y = []\n",
    "\n",
    "def add_points(pi):\n",
    "    p_points_x.append(points[pi-1][0])\n",
    "    p_points_y.append(points[pi-1][1])\n",
    "    \n",
    "add_points(8)\n",
    "add_points(1)\n",
    "add_points(2)\n",
    "add_points(3)\n",
    "add_points(4)\n",
    "add_points(5)\n",
    "add_points(6)\n",
    "add_points(7)\n",
    "\n",
    "p_points_x.append(-1)\n",
    "p_points_y.append(1)\n",
    "p_points_x.append(1)\n",
    "p_points_y.append(1)\n",
    "p_points_x.append(1)\n",
    "p_points_y.append(0)\n",
    "\n",
    "\n",
    "plt.plot(p_points_x, p_points_y)"
   ]
  },
  {
   "cell_type": "code",
   "execution_count": null,
   "id": "80bf31de",
   "metadata": {},
   "outputs": [],
   "source": [
    "g_points = []\n",
    "for p in points:\n",
    "    g_points.append(gmsh.model.geo.addPoint(p[0], p[1], 0, lc))\n",
    "    \n",
    "s_in = gmsh.model.geo.addLine(1, 2)\n",
    "s_h1 = gmsh.model.geo.addLine(2, 3)\n",
    "s_h2 = gmsh.model.geo.addLine(3, 4)\n",
    "s_h3 = gmsh.model.geo.addLine(4, 5)\n",
    "s_h4 = gmsh.model.geo.addLine(5, 6)\n",
    "s_h5 = gmsh.model.geo.addLine(6, 7)\n",
    "s_out = gmsh.model.geo.addCircleArc(7, 9, 8)\n",
    "s_symm = gmsh.model.geo.addLine(8, 1)"
   ]
  },
  {
   "cell_type": "code",
   "execution_count": null,
   "id": "c284439b",
   "metadata": {},
   "outputs": [],
   "source": [
    "g_border    = gmsh.model.geo.addCurveLoop([s_in, s_h1, s_h2, s_h3, s_h4, s_h5, s_out, s_symm])\n",
    "g_inlet     = gmsh.model.geo.addCurveLoop([s_in])\n",
    "g_outlet    = gmsh.model.geo.addCurveLoop([s_out])\n",
    "g_symm      = gmsh.model.geo.addCurveLoop([s_symm])\n",
    "g_hard      = gmsh.model.geo.addCurveLoop([s_h1, s_h2, s_h3, s_h4, s_h5])\n",
    "\n",
    "g_surface   = gmsh.model.geo.addPlaneSurface([g_border])\n",
    "print('border {} inlet {} outlet {} symm {} hard {}'.format(g_border, g_inlet, g_outlet, g_symm, g_hard))\n",
    "\n",
    "gmsh.model.geo.synchronize()\n",
    "\n",
    "pm_surface = 1\n",
    "gmsh.model.addPhysicalGroup(dim=2, tags=[g_surface], tag=pm_surface)\n",
    "gmsh.model.setPhysicalName(dim=2, tag=pm_surface, name=\"Horn 2D\")\n",
    "\n",
    "pm_inlet = 2\n",
    "gmsh.model.addPhysicalGroup(dim=1, tags=[s_in], tag=pm_inlet)\n",
    "gmsh.model.setPhysicalName(dim=1, tag=pm_inlet, name=\"Boundary Inlet\")\n",
    "\n",
    "pm_outlet = 3\n",
    "gmsh.model.addPhysicalGroup(dim=1, tags=[s_out], tag=pm_outlet)\n",
    "gmsh.model.setPhysicalName(dim=1, tag=pm_outlet, name=\"Boundary Outlet\")\n",
    "\n",
    "\n",
    "gmsh.model.mesh.generate(3)\n",
    "gmsh.write(\"horn-line.msh\")\n",
    "\n",
    "\n",
    "\n",
    "\n",
    "\n",
    "\n",
    "\n"
   ]
  },
  {
   "cell_type": "code",
   "execution_count": null,
   "id": "4c2888ac",
   "metadata": {},
   "outputs": [],
   "source": [
    "from firedrake import *\n",
    "plt.rcParams['figure.dpi'] = 100 # 200 e.g. is really fine, but slower\n",
    "\n",
    "mesh = Mesh('horn-line.msh', complex_mode=False)\n"
   ]
  },
  {
   "cell_type": "code",
   "execution_count": null,
   "id": "1cd4f159",
   "metadata": {},
   "outputs": [],
   "source": [
    "triplot(mesh)"
   ]
  },
  {
   "cell_type": "code",
   "execution_count": null,
   "id": "c57e0db5",
   "metadata": {},
   "outputs": [],
   "source": [
    "g_inlet"
   ]
  },
  {
   "cell_type": "code",
   "execution_count": null,
   "id": "dc87fa63-2437-4ad8-a072-dadde885b7d2",
   "metadata": {},
   "outputs": [],
   "source": [
    "g_outlet"
   ]
  },
  {
   "cell_type": "code",
   "execution_count": null,
   "id": "4fae5f4a-883e-43ee-9362-d62c958b36f3",
   "metadata": {},
   "outputs": [],
   "source": []
  },
  {
   "cell_type": "code",
   "execution_count": null,
   "id": "a2b81896-a158-44d2-bfba-9cbcada491bb",
   "metadata": {},
   "outputs": [],
   "source": []
  },
  {
   "cell_type": "code",
   "execution_count": null,
   "id": "7d821a33-76c3-4f3c-ab0a-b7b95736bdbd",
   "metadata": {},
   "outputs": [],
   "source": []
  }
 ],
 "metadata": {
  "kernelspec": {
   "display_name": "Python 3 (ipykernel)",
   "language": "python",
   "name": "python3"
  },
  "language_info": {
   "codemirror_mode": {
    "name": "ipython",
    "version": 3
   },
   "file_extension": ".py",
   "mimetype": "text/x-python",
   "name": "python",
   "nbconvert_exporter": "python",
   "pygments_lexer": "ipython3",
   "version": "3.8.10"
  }
 },
 "nbformat": 4,
 "nbformat_minor": 5
}
