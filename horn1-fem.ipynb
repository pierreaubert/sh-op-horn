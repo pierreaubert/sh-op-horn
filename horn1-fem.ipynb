{
 "cells": [
  {
   "cell_type": "code",
   "execution_count": null,
   "id": "3244d07e",
   "metadata": {},
   "outputs": [],
   "source": [
    "import gmsh\n",
    "\n",
    "import sys\n",
    "%matplotlib inline\n",
    "import matplotlib.pyplot as plt\n",
    "from sympy import solve, symbols\n",
    "import cmath\n",
    "from math import pi, sin, cos, asin, log10, log2\n",
    "import numpy as np\n",
    "import pandas as pd\n",
    "import altair as alt\n",
    "\n",
    "from firedrake import *\n",
    "plt.rcParams['figure.dpi'] = 100 # 200 e.g. is really fine, but slower\n"
   ]
  },
  {
   "cell_type": "code",
   "execution_count": null,
   "id": "998092db",
   "metadata": {},
   "outputs": [],
   "source": [
    "mesh = Mesh('horn.msh')\n",
    "# r = 2\n",
    "# mesh = UnitSquareMesh(2 ** r, 2 ** r, quadrilateral=quadrilateral)\n",
    "\n"
   ]
  },
  {
   "cell_type": "code",
   "execution_count": null,
   "id": "ceef5c2d",
   "metadata": {},
   "outputs": [],
   "source": [
    "V = FunctionSpace(mesh, \"CG\", 1)\n",
    "VB = VectorFunctionSpace(mesh, \"CG\", 1)"
   ]
  },
  {
   "cell_type": "code",
   "execution_count": null,
   "id": "364baa37",
   "metadata": {},
   "outputs": [],
   "source": [
    "u = TrialFunction(V)\n",
    "v = TestFunction(V)\n",
    "fct = Function(V)\n",
    "x, y = SpatialCoordinate(mesh)\n",
    "normal = FacetNormal(mesh)"
   ]
  },
  {
   "cell_type": "code",
   "execution_count": null,
   "id": "ead8332d",
   "metadata": {
    "tags": []
   },
   "outputs": [],
   "source": [
    "g_surf = 1\n",
    "g_inlet = 2\n",
    "g_outlet = 3\n",
    "# length of the boundaries\n",
    "l_inlet = sqrt(assemble(dot(normal, normal)*ds(g_inlet)))\n",
    "l_outlet = sqrt(assemble(dot(normal, normal)*ds(g_outlet)))\n",
    "\n",
    "# speed of sound in air\n",
    "c_air = 343.344\n",
    "# \n",
    "rho_air = 1.20458\n",
    "# incoming wave amplitude\n",
    "p_A_in = 1\n",
    "# outgoing wave amplitude\n",
    "p_B_out = 1\n",
    "# radius of outer circle\n",
    "p_R_omega = 1\n",
    "# 2 case, plannar and cylindrical\n",
    "# plannar\n",
    "p_kappa = 2\n",
    "p_r = 1\n",
    "# cyclindrical\n",
    "# kappa = 1\n",
    "# r = distance to symmetric axis\n",
    "\n",
    "def helmotz_complex(freq):\n",
    "    omega = (2*pi*freq)\n",
    "    omega2 = omega**2\n",
    "    coeff_laplace = 1/rho_air\n",
    "    coeff_pressure = -1/c_air/c_air/rho_air\n",
    "    coeff_in = 1/c_air/rho_air\n",
    "    coeff_out = 1/rho_air/2\n",
    "    # print('coeff laplacian {} pressure {} neumann IN {} neumann OUT {}'.format(coeff_laplace, coeff_pressure, coeff_in, coeff_out))\n",
    "    # left hand side\n",
    "    a_prod = (coeff_laplace*inner(grad(u), grad(v)) + coeff_pressure*omega2*inner(u, v)) * dx\n",
    "    # right hand side\n",
    "    a_in1 =            -1j*coeff_in*omega*(1+dot(normal, normal)/l_inlet)\n",
    "    a_in2 = (          -1j*coeff_in*omega)*inner(u, v)*ds(g_inlet)\n",
    "    a_out = (-coeff_out-1j*coeff_in*omega)*inner(u, v)*ds(g_outlet)\n",
    "    a = a_prod - a_in2 - a_out\n",
    "    fct.interpolate(x)\n",
    "    L = inner(1j*(1+dot(normal, normal)), v)*ds(g_inlet)\n",
    "    # solve\n",
    "    assemble(a)\n",
    "    assemble(L)\n",
    "    sol = Function(V)\n",
    "    solve(a == L, sol, solver_parameters={'ksp_type': 'cg'})\n",
    "    return sol"
   ]
  },
  {
   "cell_type": "code",
   "execution_count": null,
   "id": "16542f82",
   "metadata": {},
   "outputs": [],
   "source": [
    "sol900 = helmotz_complex(900)"
   ]
  },
  {
   "cell_type": "code",
   "execution_count": null,
   "id": "34f3774f",
   "metadata": {},
   "outputs": [],
   "source": [
    "plot_contour(900, sol900)"
   ]
  },
  {
   "cell_type": "code",
   "execution_count": null,
   "id": "0c27838a",
   "metadata": {},
   "outputs": [],
   "source": [
    "out = File(\"horn1.pvd\")\n",
    "out.write(sol900)"
   ]
  },
  {
   "cell_type": "code",
   "execution_count": null,
   "id": "468e5226",
   "metadata": {},
   "outputs": [],
   "source": [
    "def plot_contour(freq, sol):\n",
    "    fig, (ax1, ax2) = plt.subplots(2, 1, figsize=(10,6))\n",
    "    #levels= np.linspace(-60, 10, 51)\n",
    "    levels = 21\n",
    "    ax1.set_aspect('equal')\n",
    "    # ax1.legend()\n",
    "    colors= tripcolor(sol, axes=ax1)\n",
    "    fig.colorbar(colors, ax=ax1)\n",
    "    ax2.set_aspect('equal')\n",
    "    contours = tricontour(sol, axes=ax2, levels=levels, cmap=\"inferno\")\n",
    "    fig.colorbar(contours)\n",
    "    plt.title('{}Hz'.format(freq))\n",
    "    plt.show()"
   ]
  },
  {
   "cell_type": "code",
   "execution_count": null,
   "id": "c8f80e9d",
   "metadata": {},
   "outputs": [],
   "source": [
    "results = {}\n",
    "for hz in (50, 60, 70, 80, 90, 100, 200, 300, 400, 500, 1000):\n",
    "    sol_hz = helmotz_complex(hz)\n",
    "    results[hz] = sol_hz"
   ]
  },
  {
   "cell_type": "code",
   "execution_count": null,
   "id": "85ec71ae-71e3-4e56-a0c5-a684094cf70f",
   "metadata": {},
   "outputs": [],
   "source": [
    "for f_hz, res in results.items():\n",
    "    plot_contour(f_hz, res)"
   ]
  },
  {
   "cell_type": "code",
   "execution_count": null,
   "id": "e024101f-6f38-48db-8db6-01d384af3e3e",
   "metadata": {},
   "outputs": [],
   "source": [
    "j = {}\n",
    "for freq, sol in results.items():\n",
    "    j[freq] = abs(abs(assemble(sol*ds(g_inlet)))/l_inlet-1)"
   ]
  },
  {
   "cell_type": "code",
   "execution_count": null,
   "id": "2b5f3d18-af92-4720-87b3-4e34f6acc8dd",
   "metadata": {},
   "outputs": [],
   "source": [
    "j"
   ]
  },
  {
   "cell_type": "code",
   "execution_count": null,
   "id": "a83d49f6-2288-4436-88a5-8d5ae52e7c2b",
   "metadata": {},
   "outputs": [],
   "source": [
    "freq = np.linspace(50, 1000, 100)\n",
    "results = []\n",
    "reflections = []\n",
    "for f_hz in freq:\n",
    "    s_hz = helmotz_complex(f_hz)\n",
    "    results.append(s_hz)\n",
    "    reflections.append(abs(abs(assemble((s_hz*ds(g_inlet))))/l_inlet-1))"
   ]
  },
  {
   "cell_type": "code",
   "execution_count": null,
   "id": "2d360639-7800-4853-a17e-7f709ac363c4",
   "metadata": {},
   "outputs": [],
   "source": [
    "alt.Chart(pd.DataFrame({'Freq': freq, 'Reflection': reflections})).mark_line(\n",
    ").encode(\n",
    "    x=alt.X('Freq', title='Freq (Hz)'), #scale=alt.Scale(type=\"lin\", base=10, nice=False, domain=[20, 1000])), \n",
    "    y=alt.Y('Reflection', scale=alt.Scale(type=\"log\", base=10)),\n",
    ")"
   ]
  },
  {
   "cell_type": "code",
   "execution_count": null,
   "id": "8844517d-1377-4359-a07e-efa9cdfb5812",
   "metadata": {},
   "outputs": [],
   "source": [
    "def angle(theta):\n",
    "    if theta == 0:\n",
    "        return 'On Axis'\n",
    "    return '{}°'.format(int(theta))\n",
    "\n",
    "r = 0.999\n",
    "dfs = []\n",
    "for theta in np.linspace(0, 180, 19):\n",
    "    dbs = []\n",
    "    theta_rad = theta*pi/180\n",
    "    p_x = r*cos(theta_rad)\n",
    "    p_y = r*sin(theta_rad)\n",
    "    for fr, sol in zip(freq, results):\n",
    "        p_p = sol.at(p_x, p_y, dont_raise=True)\n",
    "        if p is not None:\n",
    "            p_db = 105+20*log10(abs(p_p))\n",
    "            # print('{:3.0f} {:+0.2f} {:+0.2f} {}'.format(theta, p_x, p_y, p_db))\n",
    "            dbs.append(p_db)\n",
    "        else:\n",
    "            print('{} {} {} ERROR'.format(theta, p_x, p_y))\n",
    "    if theta == 0:\n",
    "        dfs.append(pd.DataFrame({\"Freq\": freq, angle(theta): dbs}))\n",
    "    else:\n",
    "        angle_p = angle(theta)\n",
    "        angle_m = '-{}'.format(angle_p)\n",
    "        dfs.append(pd.DataFrame({angle_p: dbs}))\n",
    "        if theta != 180:\n",
    "            dfs.append(pd.DataFrame({angle_m: dbs}))\n",
    "\n",
    "df = pd.concat(dfs, axis=1)        "
   ]
  },
  {
   "cell_type": "code",
   "execution_count": null,
   "id": "b119007a-b714-4d2b-8abe-7c40d27b8326",
   "metadata": {},
   "outputs": [],
   "source": [
    "dfs = df.reset_index().melt(id_vars='Freq', var_name='Measurements', value_name='dB').loc[lambda df: df[\"Measurements\"] != \"index\"]\n",
    "dfs.head()"
   ]
  },
  {
   "cell_type": "code",
   "execution_count": null,
   "id": "dc7fe61d-0eeb-4f06-b2f1-42ab7f82ab40",
   "metadata": {},
   "outputs": [],
   "source": [
    "alt.Chart(dfs).mark_line(\n",
    ").transform_filter(\n",
    "    alt.FieldOneOfPredicate(\n",
    "        field=\"Measurements\",\n",
    "        oneOf=[\n",
    "            \"On Axis\",\n",
    "            \"10°\",\n",
    "            \"20°\",\n",
    "            \"30°\",\n",
    "        ],),\n",
    ").encode(\n",
    "    x=alt.X('Freq:Q', scale=alt.Scale(type=\"log\", base=10, nice=False, domain=[20, 20000])),\n",
    "    y=alt.Y('dB:Q'),\n",
    "    color=alt.Color('Measurements')\n",
    ")"
   ]
  },
  {
   "cell_type": "code",
   "execution_count": null,
   "id": "75a989f2-1ed4-4638-b9e5-33dd00201e8d",
   "metadata": {},
   "outputs": [],
   "source": [
    "import sys,os,os.path\n",
    "sys.path.append(os.path.expanduser('/home/pierre/src/spinorama/src'))\n",
    "from spinorama.graph import graph_contour, contour_params_default"
   ]
  },
  {
   "cell_type": "code",
   "execution_count": null,
   "id": "1d6ac11e-0b52-48a0-a3b2-306cb8460e44",
   "metadata": {},
   "outputs": [],
   "source": [
    "graph_contour(df, contour_params_default)"
   ]
  },
  {
   "cell_type": "code",
   "execution_count": null,
   "id": "0cf42c81-0a99-44c2-8723-68f0c61f16b6",
   "metadata": {},
   "outputs": [],
   "source": []
  }
 ],
 "metadata": {
  "kernelspec": {
   "display_name": "Python 3 (ipykernel)",
   "language": "python",
   "name": "python3"
  },
  "language_info": {
   "codemirror_mode": {
    "name": "ipython",
    "version": 3
   },
   "file_extension": ".py",
   "mimetype": "text/x-python",
   "name": "python",
   "nbconvert_exporter": "python",
   "pygments_lexer": "ipython3",
   "version": "3.8.10"
  }
 },
 "nbformat": 4,
 "nbformat_minor": 5
}
