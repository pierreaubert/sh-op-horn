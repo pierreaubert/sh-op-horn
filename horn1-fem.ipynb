{
 "cells": [
  {
   "cell_type": "code",
   "execution_count": null,
   "id": "3244d07e",
   "metadata": {},
   "outputs": [],
   "source": [
    "import gmsh\n",
    "\n",
    "import sys\n",
    "%matplotlib inline\n",
    "import matplotlib.pyplot as plt\n",
    "from sympy import solve, symbols\n",
    "from math import pi, sin, cos\n",
    "import numpy as np\n",
    "\n",
    "from firedrake import *\n",
    "plt.rcParams['figure.dpi'] = 100 # 200 e.g. is really fine, but slower\n"
   ]
  },
  {
   "cell_type": "code",
   "execution_count": null,
   "id": "998092db",
   "metadata": {},
   "outputs": [],
   "source": [
    "mesh = Mesh('horn.msh')\n"
   ]
  },
  {
   "cell_type": "code",
   "execution_count": null,
   "id": "efda71e9",
   "metadata": {},
   "outputs": [],
   "source": [
    "V = FunctionSpace(mesh, \"CG\", 1)\n"
   ]
  },
  {
   "cell_type": "code",
   "execution_count": null,
   "id": "7b13cd74",
   "metadata": {},
   "outputs": [],
   "source": [
    "u = TrialFunction(V)\n",
    "v = TestFunction(V)\n",
    "f = Function(V)\n",
    "x, y = SpatialCoordinate(mesh)"
   ]
  },
  {
   "cell_type": "code",
   "execution_count": null,
   "id": "9bd28fd7",
   "metadata": {},
   "outputs": [],
   "source": [
    "# f.interpolate((1+8*pi*pi)*cos(x*pi*2)*cos(y*pi*2))\n",
    "f.interpolate((0.0000)*cos(x*pi*2)*cos(y*pi*2))\n",
    "# f.interpolate((0*x**2+y**2))\n",
    "BCLaplace = DirichletBC(V, 1, [2])"
   ]
  },
  {
   "cell_type": "code",
   "execution_count": null,
   "id": "3a1a2e87",
   "metadata": {},
   "outputs": [],
   "source": [
    "def helmotz(freq):\n",
    "    c_air = 430\n",
    "    scale = (freq/c_air)**2\n",
    "    a = (inner(grad(u), grad(v)) + scale*inner(u, v)) * dx\n",
    "    g = Constant(2.)\n",
    "    # L = inner(f, v) * dx + g*v*ds(3)\n",
    "    L = g*v*ds(3)\n",
    "    sol = Function(V)\n",
    "    solve(a == L, sol, bcs=BCLaplace, solver_parameters={'ksp_type': 'cg'})\n",
    "    return sol"
   ]
  },
  {
   "cell_type": "code",
   "execution_count": null,
   "id": "4f4bcf50",
   "metadata": {},
   "outputs": [],
   "source": [
    "def plot_contour(freq, sol):\n",
    "    fig, (ax1, ax2) = plt.subplots(1, 2, figsize=(10,6))\n",
    "    ax1.set_aspect('equal')\n",
    "    colors= tripcolor(sol, axes=ax1)\n",
    "    # fig.colorbar(colors)\n",
    "    ax2.set_aspect('equal')\n",
    "    contours = tricontour(sol, levels=50, axes=ax2)\n",
    "    # fig.colorbar(contours)\n",
    "    plt.title('{}Hz'.format(freq))\n",
    "    plt.show()"
   ]
  },
  {
   "cell_type": "code",
   "execution_count": null,
   "id": "4709e992",
   "metadata": {},
   "outputs": [],
   "source": [
    "for f in (50, 100, 200, 300, 400, 500, 1000):\n",
    "    s = helmotz(f)\n",
    "    plot_contour(f, s)"
   ]
  },
  {
   "cell_type": "code",
   "execution_count": null,
   "id": "8f21677b",
   "metadata": {},
   "outputs": [],
   "source": []
  }
 ],
 "metadata": {
  "kernelspec": {
   "display_name": "Python 3 (ipykernel)",
   "language": "python",
   "name": "python3"
  },
  "language_info": {
   "codemirror_mode": {
    "name": "ipython",
    "version": 3
   },
   "file_extension": ".py",
   "mimetype": "text/x-python",
   "name": "python",
   "nbconvert_exporter": "python",
   "pygments_lexer": "ipython3",
   "version": "3.8.5"
  }
 },
 "nbformat": 4,
 "nbformat_minor": 5
}
