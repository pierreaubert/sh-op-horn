{
 "cells": [
  {
   "cell_type": "code",
   "execution_count": null,
   "id": "507ade2d-1549-4e63-b04e-e2e07f451b51",
   "metadata": {},
   "outputs": [],
   "source": [
    "import gmsh\n",
    "\n",
    "import sys\n",
    "%matplotlib inline\n",
    "import matplotlib.pyplot as plt\n",
    "from sympy import solve, symbols\n",
    "import cmath\n",
    "from math import pi, sin, cos, asin, log10, log2\n",
    "import numpy as np\n",
    "import pandas as pd\n",
    "import altair as alt\n",
    "\n",
    "from firedrake import *\n",
    "plt.rcParams['figure.dpi'] = 100 # 200 e.g. is really fine, but slower\n",
    "\n",
    "import sys,os,os.path\n",
    "sys.path.append(os.path.expanduser('/home/pierre/src/spinorama/src'))\n",
    "from spinorama.graph import graph_contour, contour_params_default, graph_isoband, isoband_params_default\n",
    "from spinorama.load_misc import sort_angles, graph_melt"
   ]
  },
  {
   "cell_type": "code",
   "execution_count": null,
   "id": "1e6102dc-35dc-47a0-9659-70dddf61a1fc",
   "metadata": {},
   "outputs": [],
   "source": [
    "def plot_contour(freq, sol):\n",
    "    fig, (ax1, ax2) = plt.subplots(2, 1, figsize=(10,6))\n",
    "    levels= np.linspace(-1, 1, 21)\n",
    "    # levels = 21\n",
    "    ax1.set_aspect('equal')\n",
    "    # ax1.legend()\n",
    "    colors= tripcolor(sol, axes=ax1, cmap=\"inferno\")\n",
    "    fig.colorbar(colors, ax=ax1)\n",
    "    ax2.set_aspect('equal')\n",
    "    contours = tricontour(sol, axes=ax2, levels=levels, cmap=\"inferno\")\n",
    "    fig.colorbar(contours)\n",
    "    plt.title('{}Hz'.format(freq))\n",
    "    plt.show()"
   ]
  },
  {
   "cell_type": "code",
   "execution_count": null,
   "id": "15aec8de-3ae6-431b-a5e2-7059926026ed",
   "metadata": {},
   "outputs": [],
   "source": [
    "# speed of sound in air (m/s)\n",
    "c_air = 343.344\n",
    "# \n",
    "rho_air = 1.20458\n",
    "# incoming wave amplitude\n",
    "p_A_in = 1\n",
    "# outgoing wave amplitude\n",
    "p_B_out = 1\n",
    "# radius of outer circle\n",
    "p_R_omega = 1\n",
    "# 2 case, plannar and cylindrical\n",
    "# plannar\n",
    "p_kappa = 2\n",
    "p_r = 1\n",
    "# cyclindrical\n",
    "# kappa = 1\n",
    "# r = distance to symmetric axis"
   ]
  },
  {
   "cell_type": "code",
   "execution_count": null,
   "id": "19d3c828-623b-4003-ae22-964dc0ffe79d",
   "metadata": {},
   "outputs": [],
   "source": [
    "# mesh = Mesh('horn-line.msh')\n",
    "mesh = Mesh('horn-curve.msh')\n",
    "g_inlet = 2\n",
    "g_outlet = 3\n",
    "# length of the boundaries\n",
    "l_inlet = 1/15"
   ]
  },
  {
   "cell_type": "code",
   "execution_count": null,
   "id": "ead8332d",
   "metadata": {
    "tags": []
   },
   "outputs": [],
   "source": [
    "#mesh = UnitSquareMesh(100, 100)\n",
    "#g_inlet  = 1\n",
    "#g_outlet = 3\n",
    "\n",
    "def helmotz_complex(mesh, freq):\n",
    "    V = FunctionSpace(mesh, \"CG\", 1)\n",
    "    u = TrialFunction(V)\n",
    "    v = TestFunction(V)\n",
    "    kappa = 2*pi*freq/c_air\n",
    "    a_prod = inner(grad(u), grad(v)) - kappa**2*inner(u, v)\n",
    "    # right hand side\n",
    "    a_in  =  rho_air*1j*kappa     *inner(u, v)\n",
    "    a_out = (rho_air*1j*kappa+1/2)*inner(u, v)\n",
    "    a = a_prod * dx + a_in * ds(g_inlet) + a_out *ds(g_outlet)\n",
    "    L = -2*rho_air*1j*kappa*conj(v)*ds(g_inlet)\n",
    "    # solve\n",
    "    assemble(a)\n",
    "    assemble(L)\n",
    "    sol = Function(V)\n",
    "    solve(a == L, sol, solver_parameters={'ksp_type': 'fgmres'})\n",
    "    return sol"
   ]
  },
  {
   "cell_type": "code",
   "execution_count": null,
   "id": "16542f82",
   "metadata": {},
   "outputs": [],
   "source": [
    "sol900 = helmotz_complex(mesh, 900)"
   ]
  },
  {
   "cell_type": "code",
   "execution_count": null,
   "id": "34f3774f",
   "metadata": {},
   "outputs": [],
   "source": [
    "fig, (ax1, ax2) = plt.subplots(2, 1, figsize=(20,10))\n",
    "levels= np.linspace(-1.1, 1.1, 51)\n",
    "ax1.set_aspect('equal')\n",
    "colors= tripcolor(sol900, axes=ax1, cmap=\"inferno\")\n",
    "fig.colorbar(colors, ax=ax1)\n",
    "ax2.set_aspect('equal')\n",
    "contours = tricontour(sol900, axes=ax2, levels=levels, cmap=\"inferno\")\n",
    "fig.colorbar(contours)\n",
    "plt.title('900 Hz')\n",
    "plt.show()"
   ]
  },
  {
   "cell_type": "code",
   "execution_count": null,
   "id": "0c27838a",
   "metadata": {},
   "outputs": [],
   "source": [
    "out = File(\"horn1.pvd\")\n",
    "out.write(sol900)"
   ]
  },
  {
   "cell_type": "code",
   "execution_count": null,
   "id": "c8f80e9d",
   "metadata": {},
   "outputs": [],
   "source": [
    "quick_results = {}\n",
    "for hz in (50, 60, 70, 80, 90, 100, 200, 300, 400, 500, 1000):\n",
    "    sol_hz = helmotz_complex(mesh, hz)\n",
    "    quick_results[hz] = sol_hz"
   ]
  },
  {
   "cell_type": "code",
   "execution_count": null,
   "id": "85ec71ae-71e3-4e56-a0c5-a684094cf70f",
   "metadata": {},
   "outputs": [],
   "source": [
    "for f_hz, res in quick_results.items():\n",
    "    plot_contour(f_hz, res)"
   ]
  },
  {
   "cell_type": "code",
   "execution_count": null,
   "id": "e024101f-6f38-48db-8db6-01d384af3e3e",
   "metadata": {},
   "outputs": [],
   "source": [
    "j = {}\n",
    "for freq, sol in quick_results.items():\n",
    "    intermediate = assemble(sol*ds(g_inlet))\n",
    "    length = assemble(sol/sol*ds(g_inlet))\n",
    "    print(intermediate, length)\n",
    "    j[freq] = abs( intermediate/length - 1)\n",
    "print(j)"
   ]
  },
  {
   "cell_type": "code",
   "execution_count": null,
   "id": "a83d49f6-2288-4436-88a5-8d5ae52e7c2b",
   "metadata": {},
   "outputs": [],
   "source": [
    "freq_sz = 101\n",
    "freq = np.logspace(log10(50), log10(1050), freq_sz) #np.linspace(50, 1000, freq_sz)\n",
    "results = []\n",
    "for i, f_hz in enumerate(freq):\n",
    "    s_hz = helmotz_complex(mesh, f_hz)\n",
    "    results.append(s_hz)\n",
    "    if i>0 and (i*100//freq_sz) % 10 == 0:\n",
    "        print('{}%'.format(i*100//freq_sz), end='')\n",
    "    if i % 4 == 0:\n",
    "      print('.', end='')"
   ]
  },
  {
   "cell_type": "code",
   "execution_count": null,
   "id": "2d360639-7800-4853-a17e-7f709ac363c4",
   "metadata": {},
   "outputs": [],
   "source": [
    "length_in = abs(assemble(results[0]/results[0]*ds(g_inlet)))\n",
    "print(length_in)\n",
    "reflections = [abs(abs(assemble(abs(s_hz)*ds(g_inlet))/length_in)-1) for s_hz in results]\n",
    "\n",
    "alt.Chart(pd.DataFrame({'Freq': freq, 'Reflection': reflections})).mark_line(\n",
    ").encode(\n",
    "    x=alt.X('Freq', title='Freq (Hz)', scale=alt.Scale(type=\"linear\", base=10, nice=False, domain=[20, 1050])), \n",
    "    y=alt.Y('Reflection', scale=alt.Scale(type=\"log\", base=10, nice=False, domain=[0.001, 2])),\n",
    ")"
   ]
  },
  {
   "cell_type": "code",
   "execution_count": null,
   "id": "8844517d-1377-4359-a07e-efa9cdfb5812",
   "metadata": {},
   "outputs": [],
   "source": [
    "def angle(theta):\n",
    "    if theta == 0:\n",
    "        return 'On Axis'\n",
    "    return '{}°'.format(int(theta))\n",
    "\n",
    "r = 0.99\n",
    "dfs = []\n",
    "for theta in np.linspace(0, 180, 19): # use s/19/37/ for 5 degrees increment\n",
    "    dbs = []\n",
    "    theta_rad = theta*pi/180\n",
    "    p_x = r*cos(theta_rad)\n",
    "    p_y = r*sin(theta_rad)\n",
    "    for fr, sol in zip(freq, results):\n",
    "        p_p = sol.at(p_x, p_y, dont_raise=True)\n",
    "        if p_p is not None and abs(p_p)>=0:\n",
    "            if abs(p_p) == 0:\n",
    "                p_db = -120\n",
    "            else:\n",
    "                p_db = 105+20*log10(abs(p_p))\n",
    "            # print('{:3.0f} {:+0.2f} {:+0.2f} {}'.format(theta, p_x, p_y, p_db))\n",
    "            dbs.append(p_db)\n",
    "        else:\n",
    "            print('{} {} {} {} ERROR'.format(theta, p_x, p_y, p_p))\n",
    "    if theta == 0:\n",
    "        dfs.append(pd.DataFrame({\"Freq\": freq, angle(theta): dbs}))\n",
    "    else:\n",
    "        angle_p = angle(theta)\n",
    "        angle_m = '-{}'.format(angle_p)\n",
    "        dfs.append(pd.DataFrame({angle_p: dbs}))\n",
    "        if theta != 180:\n",
    "            dfs.append(pd.DataFrame({angle_m: dbs}))\n",
    "\n",
    "df = sort_angles(pd.concat(dfs, axis=1))\n",
    "dfs = graph_melt(df)"
   ]
  },
  {
   "cell_type": "code",
   "execution_count": null,
   "id": "dc7fe61d-0eeb-4f06-b2f1-42ab7f82ab40",
   "metadata": {},
   "outputs": [],
   "source": [
    "alt.Chart(dfs).mark_line(\n",
    ").transform_filter(\n",
    "    alt.FieldOneOfPredicate(\n",
    "        field=\"Measurements\",\n",
    "        oneOf=[\n",
    "            \"On Axis\",\n",
    "            \"10°\",\n",
    "            \"20°\",\n",
    "            \"30°\",\n",
    "            \"40°\",\n",
    "            \"50°\",\n",
    "            \"60°\",\n",
    "            \"90°\",\n",
    "            \"120°\",\n",
    "            \"150°\",\n",
    "        ],),\n",
    ").encode(\n",
    "    x=alt.X('Freq:Q', scale=alt.Scale(type=\"log\", base=10, nice=False, domain=[50, 1000])),\n",
    "    y=alt.Y('dB:Q', scale=alt.Scale(type=\"linear\", domain=[60, 110])),\n",
    "    color=alt.Color('Measurements')\n",
    ").properties(\n",
    "    width=600\n",
    ")"
   ]
  },
  {
   "cell_type": "code",
   "execution_count": null,
   "id": "0cf42c81-0a99-44c2-8723-68f0c61f16b6",
   "metadata": {},
   "outputs": [],
   "source": [
    "isoband_params = isoband_params_default\n",
    "isoband_params['xmin'] = 50\n",
    "isoband_params['xmax'] = 1000\n",
    "graph_isoband(df, isoband_params)"
   ]
  },
  {
   "cell_type": "code",
   "execution_count": null,
   "id": "d4672f7d-e5c7-492e-a02a-e02a9a367bb5",
   "metadata": {},
   "outputs": [],
   "source": [
    "from spinorama.compute_cea2034 import compute_cea2034\n",
    "\n",
    "from spinorama.graph import graph_spinorama, graph_params_default\n",
    "from spinorama.compute_normalize import normalize_mean, normalize_cea2034, normalize_graph"
   ]
  },
  {
   "cell_type": "code",
   "execution_count": null,
   "id": "676cf43a-2fe0-4085-9e7c-912e7ef095e4",
   "metadata": {},
   "outputs": [],
   "source": [
    "spin = compute_cea2034(df, df)\n",
    "mean = normalize_mean(spin)\n",
    "n_spin = normalize_cea2034(graph_melt(spin), mean)\n",
    "graph_spinorama(n_spin, graph_params_default)"
   ]
  },
  {
   "cell_type": "code",
   "execution_count": null,
   "id": "23b9092e-d33a-4126-8dc6-064cf6eee25c",
   "metadata": {},
   "outputs": [],
   "source": [
    "m = UnitSquareMesh(20, 20)\n",
    "mesh = ExtrudedMesh(m, layers=10, layer_height=0.02)"
   ]
  },
  {
   "cell_type": "code",
   "execution_count": null,
   "id": "1329ce99-de74-4d10-911d-7a6c6d343c38",
   "metadata": {},
   "outputs": [],
   "source": [
    "triplot(mesh)"
   ]
  },
  {
   "cell_type": "code",
   "execution_count": null,
   "id": "367a31f4-2e87-478b-b68e-917932a37bd2",
   "metadata": {},
   "outputs": [],
   "source": []
  }
 ],
 "metadata": {
  "kernelspec": {
   "display_name": "Python 3 (ipykernel)",
   "language": "python",
   "name": "python3"
  },
  "language_info": {
   "codemirror_mode": {
    "name": "ipython",
    "version": 3
   },
   "file_extension": ".py",
   "mimetype": "text/x-python",
   "name": "python",
   "nbconvert_exporter": "python",
   "pygments_lexer": "ipython3",
   "version": "3.8.10"
  }
 },
 "nbformat": 4,
 "nbformat_minor": 5
}
