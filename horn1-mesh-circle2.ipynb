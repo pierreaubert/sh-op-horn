{
 "cells": [
  {
   "cell_type": "code",
   "execution_count": null,
   "id": "3244d07e",
   "metadata": {},
   "outputs": [],
   "source": [
    "import gmsh"
   ]
  },
  {
   "cell_type": "code",
   "execution_count": null,
   "id": "1167e17c",
   "metadata": {},
   "outputs": [],
   "source": [
    "import sys\n",
    "%matplotlib inline\n",
    "import matplotlib.pyplot as plt\n",
    "from sympy import solve, symbols, nonlinsolve\n",
    "from math import pi, sin, cos\n",
    "import numpy as np"
   ]
  },
  {
   "cell_type": "code",
   "execution_count": null,
   "id": "757ba7c4",
   "metadata": {},
   "outputs": [],
   "source": [
    "gmsh.initialize()\n",
    "gmsh.model.add(\"horn-curve\")"
   ]
  },
  {
   "cell_type": "code",
   "execution_count": null,
   "id": "909cd8ae",
   "metadata": {},
   "outputs": [],
   "source": [
    "r_i = 1\n",
    "r_o = 2\n",
    "a = 1/15\n",
    "b = 3/10\n",
    "R = 2\n",
    "t = a/2\n",
    "\n",
    "freq=1000\n",
    "c_air=340\n",
    "l=c_air/freq\n",
    "lc=l/12"
   ]
  },
  {
   "cell_type": "code",
   "execution_count": null,
   "id": "b6f6b511",
   "metadata": {},
   "outputs": [],
   "source": [
    "def vector_angle(v1, v2):\n",
    "    uv1 = np.divide(v1, np.linalg.norm(v1))\n",
    "    uv2 = np.divide(v2, np.linalg.norm(v2))\n",
    "    return np.arccos(np.dot(uv1, uv2))\n",
    "\n",
    "def compute_points(a, b, r_i, r_o, R):\n",
    "    x = symbols('x')\n",
    "    y = symbols('y')\n",
    "    eqs = [\n",
    "        x**2+(y-b)**2-R**2,\n",
    "        (x+r_i)**2+(y-a)**2-R**2\n",
    "    ]\n",
    "    s = solve(eqs, [x,y])\n",
    "    # print(s)\n",
    "    x0, y0 = float(s[0][0]), float(s[0][1])\n",
    "\n",
    "    theta = vector_angle([-r_i-x0, a-y0], [-x0, b-y0])\n",
    "    y = 3*pi/2-vector_angle([0, -1], [-r_i-x0, a-y0])\n",
    "\n",
    "    #print(\n",
    "    #    x0+(R-t)*math.cos(y),       y0+(R-t)*math.sin(y),\n",
    "    #    x0+(R  )*math.cos(y),       y0+(R  )*math.sin(y),\n",
    "    #    x0+(R-t)*math.cos(y+theta), y0+(R-t)*math.sin(y+theta),\n",
    "    #    x0+(R  )*math.cos(y+theta), y0+(R  )*math.sin(y+theta)\n",
    "    #)\n",
    "    \n",
    "    points = [\n",
    "        (0, 0),                                           # 1 center\n",
    "        (x0, y0),                                         # 2 horn center\n",
    "        (-r_i,0),                                         # 3 left corner\n",
    "        (x0+(R  )*cos(y),       y0+(R  )*sin(y)),         # 4 annulus\n",
    "        (x0+(R  )*cos(y+theta), y0+(R  )*sin(y+theta)),   # 5\n",
    "        (x0+(R-t)*cos(y+theta), y0+(R-t)*sin(y+theta)),   # 6\n",
    "        (x0+(R-t)*cos(y),       y0+(R-t)*sin(y)),         # 7\n",
    "        (r_o,0),                                          # 8 right corner\n",
    "        (-r_o,0)                                          # 9 left corner\n",
    "    ]\n",
    "    # print(points)\n",
    "    return points"
   ]
  },
  {
   "cell_type": "code",
   "execution_count": null,
   "id": "5489eeb2",
   "metadata": {},
   "outputs": [],
   "source": [
    "points = compute_points(a,b,r_i,r_o,R)\n",
    "g_points = []\n",
    "for p in points:\n",
    "    g_points.append(gmsh.model.occ.addPoint(p[0], p[1], 0, lc))"
   ]
  },
  {
   "cell_type": "code",
   "execution_count": null,
   "id": "9f9c0039",
   "metadata": {},
   "outputs": [],
   "source": [
    "p_points_x = []\n",
    "p_points_y = []\n",
    "\n",
    "def add_points(pi):\n",
    "    p_points_x.append(points[pi-1][0])\n",
    "    p_points_y.append(points[pi-1][1])\n",
    "    \n",
    "add_points(3)\n",
    "add_points(4)\n",
    "add_points(5)\n",
    "add_points(6)\n",
    "add_points(7)\n",
    "add_points(4)\n",
    "add_points(3)\n",
    "add_points(9)\n",
    "\n",
    "p_points_x.append(-r_o)\n",
    "p_points_y.append(r_o)\n",
    "p_points_x.append(r_o)\n",
    "p_points_y.append(r_o)\n",
    "\n",
    "add_points(8)\n",
    "add_points(9)\n",
    "\n",
    "\n",
    "plt.plot(p_points_x, p_points_y)"
   ]
  },
  {
   "cell_type": "code",
   "execution_count": null,
   "id": "80bf31de",
   "metadata": {},
   "outputs": [],
   "source": [
    "s1 = gmsh.model.occ.addLine(3, 4)\n",
    "s2 = gmsh.model.occ.addCircleArc(4, 2, 5)\n",
    "s3 = gmsh.model.occ.addLine(5, 6)\n",
    "s4 = gmsh.model.occ.addCircleArc(6, 2, 7)\n",
    "s5 = gmsh.model.occ.addLine(7, 4)\n",
    "s6 = gmsh.model.occ.addCircleArc(9, 1, 8)\n",
    "s7 = gmsh.model.occ.addLine(8, 9)"
   ]
  },
  {
   "cell_type": "code",
   "execution_count": null,
   "id": "c284439b",
   "metadata": {},
   "outputs": [],
   "source": [
    "# g_inlet     = gmsh.model.occ.addCurveLoop([s1])\n",
    "g_outlet    = gmsh.model.occ.addCurveLoop([s6, s7])\n",
    "g_surface   = gmsh.model.occ.addPlaneSurface([g_outlet])\n",
    "\n",
    "gmsh.model.occ.synchronize()\n",
    "\n",
    "pm_surface = 1\n",
    "gmsh.model.addPhysicalGroup(dim=2, tags=[g_surface], tag=pm_surface)\n",
    "gmsh.model.setPhysicalName(dim=2, tag=pm_surface, name=\"Horn 2D\")\n",
    "\n",
    "pm_inlet = 2\n",
    "gmsh.model.addPhysicalGroup(dim=1, tags=[s1], tag=pm_inlet)\n",
    "gmsh.model.setPhysicalName(dim=1, tag=pm_inlet, name=\"Boundary Inlet\")\n",
    "\n",
    "pm_outlet = 3\n",
    "gmsh.model.addPhysicalGroup(dim=1, tags=[s6], tag=pm_outlet)\n",
    "gmsh.model.setPhysicalName(dim=1, tag=pm_outlet, name=\"Boundary Outlet\")\n",
    "\n",
    "gmsh.model.mesh.generate(3)\n",
    "gmsh.write(\"horn-curve-{}hz.msh\".format(freq))\n",
    "\n",
    "\n",
    "\n",
    "\n",
    "\n",
    "\n",
    "\n"
   ]
  },
  {
   "cell_type": "code",
   "execution_count": null,
   "id": "4c2888ac",
   "metadata": {},
   "outputs": [],
   "source": [
    "from firedrake import *\n",
    "plt.rcParams['figure.dpi'] = 100 # 200 e.g. is really fine, but slower\n",
    "\n",
    "mesh = Mesh('horn-curve-{}hz.msh'.format(freq), complex_mode=False)\n"
   ]
  },
  {
   "cell_type": "code",
   "execution_count": null,
   "id": "1cd4f159",
   "metadata": {},
   "outputs": [],
   "source": [
    "triplot(mesh)"
   ]
  },
  {
   "cell_type": "code",
   "execution_count": null,
   "id": "c57e0db5",
   "metadata": {},
   "outputs": [],
   "source": [
    "g_inlet"
   ]
  },
  {
   "cell_type": "code",
   "execution_count": null,
   "id": "dc87fa63-2437-4ad8-a072-dadde885b7d2",
   "metadata": {},
   "outputs": [],
   "source": [
    "g_outlet"
   ]
  },
  {
   "cell_type": "code",
   "execution_count": null,
   "id": "4fae5f4a-883e-43ee-9362-d62c958b36f3",
   "metadata": {},
   "outputs": [],
   "source": []
  },
  {
   "cell_type": "code",
   "execution_count": null,
   "id": "a2b81896-a158-44d2-bfba-9cbcada491bb",
   "metadata": {},
   "outputs": [],
   "source": []
  },
  {
   "cell_type": "code",
   "execution_count": null,
   "id": "7d821a33-76c3-4f3c-ab0a-b7b95736bdbd",
   "metadata": {},
   "outputs": [],
   "source": []
  }
 ],
 "metadata": {
  "kernelspec": {
   "display_name": "Python 3 (ipykernel)",
   "language": "python",
   "name": "python3"
  },
  "language_info": {
   "codemirror_mode": {
    "name": "ipython",
    "version": 3
   },
   "file_extension": ".py",
   "mimetype": "text/x-python",
   "name": "python",
   "nbconvert_exporter": "python",
   "pygments_lexer": "ipython3",
   "version": "3.8.10"
  }
 },
 "nbformat": 4,
 "nbformat_minor": 5
}
